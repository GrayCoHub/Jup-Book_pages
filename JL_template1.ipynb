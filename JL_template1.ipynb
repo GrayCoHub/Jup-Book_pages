{
 "cells": [
  {
   "cell_type": "markdown",
   "id": "fa3bd692-1674-475a-93d0-aaa53da2293b",
   "metadata": {},
   "source": [
    "## <font color = lime> Title\n",
    "    \n",
    "<div style=\"margin-left:40px;\">\n",
    "### Overview:\n",
    "</div> \n",
    "    \n",
    "#### More:\n",
    "\n",
    "\n",
    "    \n",
    "#### End:"
   ]
  },
  {
   "attachments": {
    "d9e010fb-d526-4729-8b60-847c2a6d9709.jpg": {
     "image/jpeg": "[encoded data removed]"
    }
   },
   "cell_type": "markdown",
   "id": "dd4f3942-d7f2-4c39-8475-f0fc286d5140",
   "metadata": {},
   "source": [
    "![R_logo.jpg](attachment:d9e010fb-d526-4729-8b60-847c2a6d9709.jpg)\n",
    "#### links\n",
    "[JL_template](JL_template1.ipynb)     # internal\n",
    "    \n",
    "[JL_template](JL_template1.ipynb)  # external (same folder)\n"
   ]
  },
  {
   "cell_type": "code",
   "execution_count": null,
   "id": "23a1a2e5-903d-43d8-83ac-1dcaaa95993b",
   "metadata": {},
   "outputs": [],
   "source": []
  },
  {
   "cell_type": "markdown",
   "id": "09f7a2da-9052-4534-bca6-2528eec7ce76",
   "metadata": {},
   "source": [
    "### <font color = lime> 1.\n",
    "    \n",
    "<div style=\"margin-left:40px;\">\n",
    "### \n",
    "</div> \n",
    "    \n",
    "#### "
   ]
  },
  {
   "cell_type": "code",
   "execution_count": null,
   "id": "97c76b2c-ae3b-4db2-a006-508fefeb8614",
   "metadata": {},
   "outputs": [],
   "source": []
  },
  {
   "cell_type": "code",
   "execution_count": null,
   "id": "f06391df-db84-4ae0-9471-3f317a20396e",
   "metadata": {},
   "outputs": [],
   "source": []
  },
  {
   "cell_type": "markdown",
   "id": "ca361521-3d38-4e31-b500-1f53775e8e6b",
   "metadata": {},
   "source": [
    "### <font color = lime> \n",
    "    \n",
    "    \n",
    "####"
   ]
  },
  {
   "cell_type": "markdown",
   "id": "2c01bfed-a1fc-48e8-9eeb-33c0136b2e7f",
   "metadata": {},
   "source": [
    "### <font color = lime> 2.\n",
    "    \n",
    "<div style=\"margin-left:40px;\">\n",
    "### \n",
    "</div> \n",
    "    \n",
    "####"
   ]
  },
  {
   "cell_type": "code",
   "execution_count": null,
   "id": "0da4c181-52e6-47c9-a129-bc91f2534aac",
   "metadata": {},
   "outputs": [],
   "source": []
  },
  {
   "cell_type": "markdown",
   "id": "84782ac8-2861-4e7a-8dcb-8a3264864642",
   "metadata": {},
   "source": [
    "### <font color = lime>\n",
    "    \n",
    "####"
   ]
  },
  {
   "cell_type": "code",
   "execution_count": null,
   "id": "14e6325d-5a30-4461-81a6-702d0372b554",
   "metadata": {},
   "outputs": [],
   "source": []
  },
  {
   "cell_type": "markdown",
   "id": "adbae6bc-dcd2-4b8b-9c7c-a1a1ce3618d0",
   "metadata": {},
   "source": [
    "### <font color = lime> 3.\n",
    "    \n",
    "<div style=\"margin-left:40px;\">\n",
    "### \n",
    "</div> \n",
    "    \n",
    "####"
   ]
  },
  {
   "cell_type": "markdown",
   "id": "038a0f7a-e4b6-4c78-b5fe-fdef67b73121",
   "metadata": {},
   "source": [
    "### <font color = lime> \n",
    "    \n",
    "####"
   ]
  },
  {
   "cell_type": "code",
   "execution_count": null,
   "id": "d8162864-81be-4ac2-9b9c-f71491ab4f4e",
   "metadata": {},
   "outputs": [],
   "source": []
  },
  {
   "cell_type": "code",
   "execution_count": null,
   "id": "1a0cdee4-5619-4daf-ab7f-94c92b548ecf",
   "metadata": {},
   "outputs": [],
   "source": []
  },
  {
   "cell_type": "markdown",
   "id": "588c0c9d-a53e-46fa-9e92-3c77a168c9ae",
   "metadata": {},
   "source": [
    "### <font color = lime> 4.\n",
    "    \n",
    "<div style=\"margin-left:40px;\">\n",
    "### \n",
    "</div> \n",
    "    \n",
    "####"
   ]
  },
  {
   "cell_type": "markdown",
   "id": "86c0b6ae-6b2a-4768-930e-b6f8742f942b",
   "metadata": {},
   "source": [
    "### <font color = lime> \n",
    "    \n",
    "####"
   ]
  },
  {
   "cell_type": "code",
   "execution_count": null,
   "id": "e0d58986-1fd9-4ced-9d11-d2ad283449b9",
   "metadata": {},
   "outputs": [],
   "source": []
  },
  {
   "cell_type": "code",
   "execution_count": null,
   "id": "a918c4b2-ce08-4bdc-b2ac-32f061199249",
   "metadata": {},
   "outputs": [],
   "source": []
  },
  {
   "cell_type": "markdown",
   "id": "908584cb-b38d-48bb-976f-b9dea63dacbf",
   "metadata": {},
   "source": [
    "### <font color = lime> 5.\n",
    "    \n",
    "<div style=\"margin-left:40px;\">\n",
    "### \n",
    "</div> \n",
    "    \n",
    "####"
   ]
  },
  {
   "cell_type": "markdown",
   "id": "5a60a565-41f0-470d-ade8-94ae95011e68",
   "metadata": {},
   "source": [
    "### <font color = lime>\n",
    "    \n",
    "####"
   ]
  },
  {
   "cell_type": "code",
   "execution_count": null,
   "id": "0d229b37-8caf-479d-9cc0-d1bfd355fa90",
   "metadata": {},
   "outputs": [],
   "source": []
  },
  {
   "cell_type": "code",
   "execution_count": null,
   "id": "7b211c81-96b4-4df8-a769-76e75d1514f1",
   "metadata": {},
   "outputs": [],
   "source": []
  }
 ],
 "metadata": {
  "jupytext": {
   "formats": "ipynb,md"
  },
  "kernelspec": {
   "display_name": "R",
   "language": "R",
   "name": "ir"
  },
  "language_info": {
   "codemirror_mode": "r",
   "file_extension": ".r",
   "mimetype": "text/x-r-source",
   "name": "R",
   "pygments_lexer": "r",
   "version": "4.2.2"
  }
 },
 "nbformat": 4,
 "nbformat_minor": 5
}
